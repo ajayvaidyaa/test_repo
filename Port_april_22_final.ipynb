{
  "cells": [
    {
      "cell_type": "markdown",
      "metadata": {
        "id": "view-in-github",
        "colab_type": "text"
      },
      "source": [
        "<a href=\"https://colab.research.google.com/github/ajayvaidyaa/test_repo/blob/main/Port_april_22_final.ipynb\" target=\"_parent\"><img src=\"https://colab.research.google.com/assets/colab-badge.svg\" alt=\"Open In Colab\"/></a>"
      ]
    },
    {
      "cell_type": "code",
      "execution_count": null,
      "metadata": {
        "id": "zZxr_getUGAd"
      },
      "outputs": [],
      "source": [
        "mkdir /content/portfolio "
      ]
    },
    {
      "cell_type": "code",
      "execution_count": null,
      "metadata": {
        "id": "878p-OINUGn5"
      },
      "outputs": [],
      "source": [
        "mkdir /content/portfolio/static"
      ]
    },
    {
      "cell_type": "code",
      "execution_count": null,
      "metadata": {
        "id": "boyGOLYCUGqI"
      },
      "outputs": [],
      "source": [
        "mkdir /content/portfolio/templates"
      ]
    },
    {
      "cell_type": "code",
      "execution_count": null,
      "metadata": {
        "colab": {
          "base_uri": "https://localhost:8080/",
          "height": 35
        },
        "id": "VLZeLjvZUGtp",
        "outputId": "d062e669-d8e9-4233-9147-01aca546bdc2"
      },
      "outputs": [
        {
          "data": {
            "application/vnd.google.colaboratory.intrinsic+json": {
              "type": "string"
            },
            "text/plain": [
              "'/content/portfolio/static/Boston Employee Report.csv'"
            ]
          },
          "execution_count": 4,
          "metadata": {},
          "output_type": "execute_result"
        }
      ],
      "source": [
        "import gdown\n",
        "id='1HA3tIg6m3BiyCfJJud_DMG_o28sz_hCv'\n",
        "url = 'https://drive.google.com/u/1/uc?id='+ id +'&export=download'\n",
        "output = \"/content/portfolio/static/Boston Employee Report.csv\"\n",
        "gdown.download(url, output,'quiet')"
      ]
    },
    {
      "cell_type": "code",
      "execution_count": null,
      "metadata": {
        "id": "ApKgSDeuUGyO"
      },
      "outputs": [],
      "source": [
        "!pip install flask --quiet\n",
        "!pip install flask-ngrok --quiet"
      ]
    },
    {
      "cell_type": "code",
      "execution_count": null,
      "metadata": {
        "id": "8fIqNqxdUG0k"
      },
      "outputs": [],
      "source": [
        "!wget https://bin.equinox.io/c/4VmDzA7iaHb/ngrok-stable-linux-amd64.tgz &> /dev/null"
      ]
    },
    {
      "cell_type": "code",
      "execution_count": null,
      "metadata": {
        "colab": {
          "base_uri": "https://localhost:8080/"
        },
        "id": "a88LknzCVtWi",
        "outputId": "67d83f8b-ff5f-422c-b1cd-6d6c8d69ae0d"
      },
      "outputs": [
        {
          "name": "stdout",
          "output_type": "stream",
          "text": [
            "ngrok\n"
          ]
        }
      ],
      "source": [
        "!tar -xvf /content/ngrok-stable-linux-amd64.tgz"
      ]
    },
    {
      "cell_type": "code",
      "execution_count": null,
      "metadata": {
        "colab": {
          "base_uri": "https://localhost:8080/"
        },
        "id": "VJw9hWQPVtbc",
        "outputId": "070611e8-9f9f-42c6-e6ce-2dcfdea49ac6"
      },
      "outputs": [
        {
          "name": "stdout",
          "output_type": "stream",
          "text": [
            "Authtoken saved to configuration file: /root/.ngrok2/ngrok.yml\n"
          ]
        }
      ],
      "source": [
        "!./ngrok authtoken  26rQRpWVF3TchpnP992Oo671EU5_4PaCa4xbzh8XRUDHACHEd"
      ]
    },
    {
      "cell_type": "code",
      "execution_count": null,
      "metadata": {
        "colab": {
          "base_uri": "https://localhost:8080/"
        },
        "id": "Z0ylW1xbV38B",
        "outputId": "012159ec-70af-4e96-fde8-fb3b4fd57bd2"
      },
      "outputs": [
        {
          "name": "stdout",
          "output_type": "stream",
          "text": [
            "Writing /content/portfolio/templates/barhtml.html\n"
          ]
        }
      ],
      "source": [
        "#write a text file name it bar html\n",
        "%%file /content/portfolio/templates/barhtml.html\n",
        "<!doctype html>\n",
        "<html>\n",
        "<head>\n",
        "<meta name=\"viewport\" content=\"width=device-width, initial-scale=1.0\">\n",
        "</head>\n",
        " <body>\n",
        "<meta name=\"viewport\" content=\"width=device-width, initial-scale=1.0\">\n",
        "  <h1>Boston Chart</h1>\n",
        "  <div id='chart' class='chart'></div>\n",
        "</body>\n",
        "<script src='https://cdn.plot.ly/plotly-latest.min.js'></script>\n",
        "<script type='text/javascript'>\n",
        "  var graphs = {{bar_json | safe}};\n",
        "  Plotly.plot('chart',graphs,{});\n",
        "</script>\n",
        "</html>"
      ]
    },
    {
      "cell_type": "code",
      "execution_count": null,
      "metadata": {
        "colab": {
          "base_uri": "https://localhost:8080/"
        },
        "id": "x7mnh0XQhbrp",
        "outputId": "0e52555d-3010-4758-8975-91515f683293"
      },
      "outputs": [
        {
          "name": "stdout",
          "output_type": "stream",
          "text": [
            "Overwriting /content/portfolio/templates/resume.html\n"
          ]
        }
      ],
      "source": [
        "%%file /content/portfolio/templates/resume.html\n",
        "<!DOCTYPE html>\n",
        "<html>\n",
        "<head>\n",
        "</head>\n",
        "<body>\n",
        "Resume\n",
        "</body>"
      ]
    },
    {
      "cell_type": "code",
      "execution_count": null,
      "metadata": {
        "colab": {
          "base_uri": "https://localhost:8080/"
        },
        "id": "qQg5DBfGV4Eb",
        "outputId": "727c0c45-64f1-4f73-bea8-a7fe2f43f6df"
      },
      "outputs": [
        {
          "name": "stdout",
          "output_type": "stream",
          "text": [
            "Writing /content/portfolio/wsgi.py\n"
          ]
        }
      ],
      "source": [
        "%%file /content/portfolio/wsgi.py\n",
        "from webapp import app\n",
        "if __name__ == \"__main__\":\n",
        "  app.run()"
      ]
    },
    {
      "cell_type": "code",
      "execution_count": null,
      "metadata": {
        "colab": {
          "base_uri": "https://localhost:8080/"
        },
        "id": "emp6NkduXr2v",
        "outputId": "1f3a6860-e201-48ff-bd1f-7c9be71b6b1c"
      },
      "outputs": [
        {
          "name": "stdout",
          "output_type": "stream",
          "text": [
            "Writing /content/portfolio/Procfile\n"
          ]
        }
      ],
      "source": [
        "%%file /content/portfolio/Procfile\n",
        "web: gunicorn wsgi:app"
      ]
    },
    {
      "cell_type": "code",
      "execution_count": null,
      "metadata": {
        "colab": {
          "base_uri": "https://localhost:8080/"
        },
        "id": "KsKdbKbsXsBW",
        "outputId": "d9c6a90b-7f95-4c58-dbf3-b316260a7f64"
      },
      "outputs": [
        {
          "name": "stdout",
          "output_type": "stream",
          "text": [
            "Writing /content/portfolio/requirements.txt\n"
          ]
        }
      ],
      "source": [
        "%%file /content/portfolio/requirements.txt\n",
        "Flask==2.1.1\n",
        "pandas==1.3.5\n",
        "plotly==5.7.0\n",
        "colorama==0.4.4\n",
        "gunicorn==20.1.0"
      ]
    },
    {
      "cell_type": "code",
      "execution_count": null,
      "metadata": {
        "colab": {
          "base_uri": "https://localhost:8080/"
        },
        "id": "fZ4aCpuyVtep",
        "outputId": "a84e14f4-fc7e-49f9-f18d-daece5f03d91"
      },
      "outputs": [
        {
          "name": "stdout",
          "output_type": "stream",
          "text": [
            "Overwriting /content/portfolio/webapp.py\n"
          ]
        }
      ],
      "source": [
        "%%file /content/portfolio/webapp.py\n",
        "#flask\n",
        "from flask import Flask, config, render_template\n",
        "\n",
        "\n",
        "app = Flask(__name__)\n",
        "app.config.from_object(__name__)\n",
        "\n",
        "try:\n",
        "\tfrom flask_ngrok import run_with_ngrok;run_with_ngrok(app)\n",
        "except:\n",
        "\tpass  \n",
        "\n",
        "import plotly.express as px\n",
        "import plotly\n",
        "import json\n",
        "import pandas as pd\n",
        "\n",
        "@app.route('/') #url routename\n",
        "def bostonearningchart():      #name of the functions \t \t\n",
        "\tboston=pd.read_csv(\"./static/Boston Employee Report.csv\")\n",
        "\tboston['Regular Salary']=(boston['REGULAR'].replace( '[\\$,)]','', regex=True ).replace( '[(]','-',  regex=True ).astype(float))\n",
        "\tN=30\n",
        "\tO=True\n",
        "\tdf=pd.pivot_table(boston,values='Regular Salary',index=['TITLE'],aggfunc='max').sort_values(by=\"Regular Salary\", ascending=O).iloc[0:N].reset_index()\n",
        "\tsalary=px.bar(df,x='TITLE',y='Regular Salary',title='Top Highest Earnings for Jobs Boston')\t\n",
        "\tbar_json=json.dumps(salary,cls=plotly.utils.PlotlyJSONEncoder) \n",
        "\treturn render_template('barhtml.html',bar_json=bar_json)\n",
        " \n",
        "@app.route('/resume')\n",
        "def myresume():\n",
        "\treturn render_template('resume.html')"
      ]
    },
    {
      "cell_type": "code",
      "execution_count": null,
      "metadata": {
        "colab": {
          "background_save": true,
          "base_uri": "https://localhost:8080/"
        },
        "id": "eJjv7q9JUG3J",
        "outputId": "8692a787-bc8c-49e9-e41a-6306949d2419"
      },
      "outputs": [
        {
          "name": "stdout",
          "output_type": "stream",
          "text": [
            "[Errno 2] No such file or directory: 'portfolio'\n",
            "/content/portfolio\n",
            "updating: content/portfolio/ (stored 0%)\n",
            "updating: content/portfolio/Procfile (stored 0%)\n",
            "updating: content/portfolio/wsgi.py (deflated 3%)\n",
            "updating: content/portfolio/static/ (stored 0%)\n",
            "updating: content/portfolio/static/Boston Employee Report.csv (deflated 70%)\n",
            "updating: content/portfolio/templates/ (stored 0%)\n",
            "updating: content/portfolio/templates/barhtml.html (deflated 44%)\n",
            "updating: content/portfolio/webapp.py (deflated 45%)\n",
            "updating: content/portfolio/requirements.txt (deflated 3%)\n",
            "  adding: content/portfolio/templates/resume.html (deflated 26%)\n",
            "  adding: content/portfolio/__pycache__/ (stored 0%)\n",
            "  adding: content/portfolio/__pycache__/webapp.cpython-37.pyc (deflated 27%)\n",
            " * Serving Flask app \"webapp\" (lazy loading)\n",
            " * Environment: production\n",
            "\u001b[31m   WARNING: This is a development server. Do not use it in a production deployment.\u001b[0m\n",
            "\u001b[2m   Use a production WSGI server instead.\u001b[0m\n",
            " * Debug mode: off\n",
            " * Running on http://127.0.0.1:5000/ (Press CTRL+C to quit)\n",
            " * Running on http://f365-34-90-118-6.ngrok.io\n",
            " * Traffic stats available on http://127.0.0.1:4040\n",
            "127.0.0.1 - - [22/Apr/2022 13:51:17] \"\u001b[37mGET / HTTP/1.1\u001b[0m\" 200 -\n",
            "127.0.0.1 - - [22/Apr/2022 13:51:18] \"\u001b[33mGET /favicon.ico HTTP/1.1\u001b[0m\" 404 -\n",
            "127.0.0.1 - - [22/Apr/2022 13:51:30] \"\u001b[37mGET / HTTP/1.1\u001b[0m\" 200 -\n",
            "127.0.0.1 - - [22/Apr/2022 13:51:32] \"\u001b[37mGET / HTTP/1.1\u001b[0m\" 200 -\n",
            "127.0.0.1 - - [22/Apr/2022 13:51:37] \"\u001b[37mGET /resume HTTP/1.1\u001b[0m\" 200 -\n",
            "127.0.0.1 - - [22/Apr/2022 13:51:38] \"\u001b[33mGET /favicon.ico HTTP/1.1\u001b[0m\" 404 -\n"
          ]
        }
      ],
      "source": [
        "%cd portfolio\n",
        "!zip -r /content/myappf.zip /content/portfolio/\n",
        "!python /content/portfolio/wsgi.py"
      ]
    },
    {
      "cell_type": "code",
      "execution_count": null,
      "metadata": {
        "id": "P9N-atVPUG6u"
      },
      "outputs": [],
      "source": [
        ""
      ]
    },
    {
      "cell_type": "code",
      "execution_count": null,
      "metadata": {
        "id": "vjchPiN-ZBBy"
      },
      "outputs": [],
      "source": [
        ""
      ]
    },
    {
      "cell_type": "code",
      "execution_count": null,
      "metadata": {
        "id": "5e41W3i-ZBEU"
      },
      "outputs": [],
      "source": [
        ""
      ]
    },
    {
      "cell_type": "code",
      "execution_count": null,
      "metadata": {
        "id": "Nk7qCH5zZBHe"
      },
      "outputs": [],
      "source": [
        ""
      ]
    }
  ],
  "metadata": {
    "colab": {
      "name": "Port april 22 final.ipynb",
      "provenance": [],
      "authorship_tag": "ABX9TyPxNOv8DVdmlqemlZBe9kbU",
      "include_colab_link": true
    },
    "kernelspec": {
      "display_name": "Python 3",
      "name": "python3"
    },
    "language_info": {
      "name": "python"
    }
  },
  "nbformat": 4,
  "nbformat_minor": 0
}